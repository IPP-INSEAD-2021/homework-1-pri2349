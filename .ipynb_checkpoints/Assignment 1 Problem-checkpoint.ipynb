{
 "cells": [
  {
   "cell_type": "markdown",
   "id": "cde39c3e",
   "metadata": {},
   "source": [
    "## IPP Assignment 1"
   ]
  },
  {
   "cell_type": "markdown",
   "id": "39a14b25",
   "metadata": {},
   "source": [
    "### GRADE (Name)\n",
    "\n",
    "**Problem** | *Correctness (5)* | *Clarity (2.5)* | *Efficiency (2.5)*| COMMENT\n",
    "---|---|---|---|---\n",
    "**1** | 0/5 | 0/2.5 | 0/2.5| \n",
    "**2.1** | 5 | 2.5 | 2.5|\n",
    "**2.2** | 5 | 2.5 | 2.5|\n",
    "**2.3** | 5 | 2.5 | 2.5|\n",
    "**3** | 5 | 2.5 | 2.5|Please see my comments below\n",
    "**TOTAL SCORE** | **40/50**"
   ]
  },
  {
   "cell_type": "markdown",
   "id": "b5a8891c",
   "metadata": {},
   "source": []
  },
  {
   "cell_type": "markdown",
   "id": "b812b6f2",
   "metadata": {},
   "source": [
    "A Jupyter notebook, a Python interface, mainly consists of two types of cells: Markdown and Code cells. A Code cell is a block of contents that contain snippets of code written in Python Programming Language. A markdown cell is a block of contents that contain text and sometimes image.\n",
    "\n",
    "As you progress, you may realize the importance of markdown cells while programming with python language. Markdown cells allow you to keep track of what you've done in the Code cells by displaying titles or a brief summary of tasks in a text format (You can add headings, emphasis (bold or italic text), mathematical symbols, bullets and horizontal lines etc). This assignment is meant to guide you to become familiar with markdown language.\n",
    "\n"
   ]
  },
  {
   "cell_type": "markdown",
   "id": "971d4779",
   "metadata": {},
   "source": [
    "### Problem 1. Using markdown language, write an introduction of yourself. You can use multiple markdown cells to create a neat introduction of yourself.\n"
   ]
  },
  {
   "cell_type": "markdown",
   "id": "b6e039cd",
   "metadata": {},
   "source": [
    "#### Hi, my name is Jongyoun"
   ]
  },
  {
   "cell_type": "markdown",
   "id": "e5ef58ed",
   "metadata": {},
   "source": [
    "### Problem 2"
   ]
  },
  {
   "cell_type": "markdown",
   "id": "4bfbef84",
   "metadata": {},
   "source": [
    "For problem 2, use the following list (called i) & dictionary (called d)\n",
    "* Note that i is a list which contains 9 elements.\n",
    "* Note that d is a dictionary which has 9 keys and values."
   ]
  },
  {
   "cell_type": "code",
   "execution_count": 1,
   "id": "7312739b",
   "metadata": {},
   "outputs": [
    {
     "name": "stdout",
     "output_type": "stream",
     "text": [
      "['I', 'N', 'S', 'E', 'A', 'D', 'P', 'H', 'D']\n",
      "{0: 'I', 1: 'N', 2: 'S', 3: 'E', 4: 'A', 5: 'D', 6: 'P', 7: 'H', 8: 'D'}\n"
     ]
    }
   ],
   "source": [
    "i=['I','N','S','E','A','D','P','H','D']\n",
    "d={}\n",
    "for count, value in enumerate(i):\n",
    "    d[count]=value\n",
    "    \n",
    "print(i)\n",
    "print(d)"
   ]
  },
  {
   "cell_type": "markdown",
   "id": "1cf26b3e",
   "metadata": {},
   "source": [
    "#### Problem 2.1 Write a for loop that prints the first six elements of the list (i), using both 'IF' and 'BREAK' statments within the loop."
   ]
  },
  {
   "cell_type": "code",
   "execution_count": 2,
   "id": "98d92860",
   "metadata": {},
   "outputs": [
    {
     "name": "stdout",
     "output_type": "stream",
     "text": [
      "I\n",
      "N\n",
      "S\n",
      "E\n",
      "A\n",
      "D\n"
     ]
    }
   ],
   "source": [
    "# Write a for loop that produces the following output in this cell.\n",
    "\n",
    "for k , v in d.items():\n",
    "    if k < 6:\n",
    "        print(v)\n",
    "    else:\n",
    "        break"
   ]
  },
  {
   "cell_type": "markdown",
   "id": "77bb20f4",
   "metadata": {},
   "source": [
    "#### Problem 2.2 Write a for loop that prints all the elements except 'D' in the list (i) using if and continue statement within the loop."
   ]
  },
  {
   "cell_type": "code",
   "execution_count": 3,
   "id": "4d980b0d",
   "metadata": {},
   "outputs": [
    {
     "name": "stdout",
     "output_type": "stream",
     "text": [
      "I\n",
      "N\n",
      "S\n",
      "E\n",
      "A\n",
      "P\n",
      "H\n"
     ]
    }
   ],
   "source": [
    "# Write a for loop that produces the following output in this cell.\n",
    "for k,v in d.items():\n",
    "    if v == 'D':\n",
    "        continue\n",
    "    else:\n",
    "        print(v)"
   ]
  },
  {
   "cell_type": "markdown",
   "id": "77b58618",
   "metadata": {},
   "source": [
    "#### Problem 2.3 Create an empty list called l. Write a for loop that adds only odd dictionary keys of d in l (l is the emply list that you've created). Then prints l."
   ]
  },
  {
   "cell_type": "code",
   "execution_count": 4,
   "id": "b5fd7955",
   "metadata": {},
   "outputs": [
    {
     "name": "stdout",
     "output_type": "stream",
     "text": [
      "[1, 3, 5, 7]\n"
     ]
    }
   ],
   "source": [
    "# Write a for loop that produces the following output in this cell.\n",
    "# Start with creating a list called l\n",
    "l=[]\n",
    "for k,v in d.items():\n",
    "    if k%2!=0:\n",
    "        l.append(k)\n",
    "    else:\n",
    "        continue\n",
    "print(l)"
   ]
  },
  {
   "cell_type": "markdown",
   "id": "fd92cb6a",
   "metadata": {},
   "source": [
    "### Problem 3"
   ]
  },
  {
   "cell_type": "markdown",
   "id": "dbb03e6b",
   "metadata": {},
   "source": [
    "For problem 3, use the following two lists, students and departments respectively"
   ]
  },
  {
   "cell_type": "code",
   "execution_count": 5,
   "id": "dc00f43e",
   "metadata": {},
   "outputs": [],
   "source": [
    "students=[\"MKT:Sherrie\",\n",
    "          \"OB:Jennifer\",\n",
    "          \"TOM:Priscilla\",\n",
    "          \"STR:Nety\",\n",
    "          \"STR:Tienchang\",\n",
    "          \"ENT:Pulkit\",\n",
    "          \"FIN:Meghana\",\n",
    "          \"STR:Constantin\",\n",
    "          \"ENT:Junghyo\",\n",
    "          \"MKT:Sherrie\",\n",
    "          \"OB:Jennifer\"]\n",
    "\n",
    "departments=[\"MKT\",\"OB\",\"TOM\",\"STR\",\"ENT\",\"FIN\"]"
   ]
  },
  {
   "cell_type": "code",
   "execution_count": 6,
   "id": "9d39ebcf",
   "metadata": {},
   "outputs": [
    {
     "data": {
      "text/plain": [
       "['MKT:Sherrie',\n",
       " 'OB:Jennifer',\n",
       " 'TOM:Priscilla',\n",
       " 'STR:Nety',\n",
       " 'STR:Tienchang',\n",
       " 'ENT:Pulkit',\n",
       " 'FIN:Meghana',\n",
       " 'STR:Constantin',\n",
       " 'ENT:Junghyo',\n",
       " 'MKT:Sherrie',\n",
       " 'OB:Jennifer']"
      ]
     },
     "execution_count": 6,
     "metadata": {},
     "output_type": "execute_result"
    }
   ],
   "source": [
    "students"
   ]
  },
  {
   "cell_type": "markdown",
   "id": "60b6f18d",
   "metadata": {},
   "source": [
    "#### Problem 3. Create an empty dictionary called d. Write a for loop that adds each department in departments (given list) as keys and the list of students in that department as values."
   ]
  },
  {
   "cell_type": "code",
   "execution_count": null,
   "id": "0a22e6ae",
   "metadata": {},
   "outputs": [],
   "source": []
  },
  {
   "cell_type": "code",
   "execution_count": 18,
   "id": "32bfc8e5",
   "metadata": {},
   "outputs": [
    {
     "data": {
      "text/plain": [
       "{'MKT': ['Sherrie'],\n",
       " 'OB': ['Jennifer'],\n",
       " 'TOM': ['Priscilla'],\n",
       " 'STR': ['Nety', 'Tienchang', 'Constantin'],\n",
       " 'ENT': ['Pulkit', 'Junghyo'],\n",
       " 'FIN': ['Meghana']}"
      ]
     },
     "execution_count": 18,
     "metadata": {},
     "output_type": "execute_result"
    }
   ],
   "source": [
    "# Write a for loop that produces the following output in this cell, using the given lists (students & departments)\n",
    "# Start with creating a dictonary called d\n",
    "d = {}\n",
    "for department in departments:\n",
    "    d[department]=[]\n",
    "    for student in students:\n",
    "        var_temp_dep=student.split(':')\n",
    "        if var_temp_dep[1] in d[department]:\n",
    "            continue\n",
    "        elif var_temp_dep[0] in department:\n",
    "            d[department].append(var_temp_dep[1])\n",
    "        else:\n",
    "            continue\n",
    "\n",
    "d"
   ]
  },
  {
   "cell_type": "markdown",
   "id": "ceff0931",
   "metadata": {},
   "source": [
    "## Comment from JY: You can improve the efficiency of your code as following:"
   ]
  },
  {
   "cell_type": "code",
   "execution_count": 19,
   "id": "4725e85f",
   "metadata": {},
   "outputs": [
    {
     "data": {
      "text/plain": [
       "{'MKT': ['Sherrie'],\n",
       " 'OB': ['Jennifer'],\n",
       " 'TOM': ['Priscilla'],\n",
       " 'STR': ['Nety', 'Tienchang', 'Constantin'],\n",
       " 'ENT': ['Pulkit', 'Junghyo'],\n",
       " 'FIN': ['Meghana']}"
      ]
     },
     "execution_count": 19,
     "metadata": {},
     "output_type": "execute_result"
    }
   ],
   "source": [
    "# Write a for loop that produces the following output in this cell, using the given lists (students & departments)\n",
    "# Start with creating a dictonary called d\n",
    "d = {}\n",
    "for department in departments:\n",
    "    d[department]=[]\n",
    "    for student in students:\n",
    "        var_temp_dep=student.split(':')\n",
    "        if (var_temp_dep[1] not in d[department]) and (var_temp_dep[0]==department):\n",
    "            d[department].append(var_temp_dep[1])\n",
    "d"
   ]
  },
  {
   "cell_type": "code",
   "execution_count": null,
   "id": "7e763c69",
   "metadata": {},
   "outputs": [],
   "source": []
  }
 ],
 "metadata": {
  "kernelspec": {
   "display_name": "Python 3",
   "language": "python",
   "name": "python3"
  },
  "language_info": {
   "codemirror_mode": {
    "name": "ipython",
    "version": 3
   },
   "file_extension": ".py",
   "mimetype": "text/x-python",
   "name": "python",
   "nbconvert_exporter": "python",
   "pygments_lexer": "ipython3",
   "version": "3.8.8"
  }
 },
 "nbformat": 4,
 "nbformat_minor": 5
}
