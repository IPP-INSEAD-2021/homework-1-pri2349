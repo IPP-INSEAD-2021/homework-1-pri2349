{
 "cells": [
  {
   "cell_type": "code",
   "execution_count": 2,
   "id": "0d5baf88",
   "metadata": {},
   "outputs": [
    {
     "name": "stdout",
     "output_type": "stream",
     "text": [
      "\n",
      "Pet Name: willie\n",
      "kind: dog\n",
      "owner :  ERIC\n",
      "vaccinated: yes\n",
      "\n",
      "Pet Name: walter\n",
      "kind: cockroach\n",
      "owner :  ERIC\n",
      "vaccinated: no\n",
      "\n",
      "Pet Name: peso\n",
      "kind: dog\n",
      "owner :  CHLOE\n",
      "vaccinated: yes\n"
     ]
    }
   ],
   "source": [
    "pets = {'willie': {'kind': 'dog', 'owner': 'eric', 'vaccinated': True},\n",
    "        'walter': {'kind': 'cockroach', 'owner': 'eric', 'vaccinated': False},\n",
    "        'peso': {'kind': 'dog', 'owner': 'chloe', 'vaccinated': True},\n",
    "        }\n",
    "for p_name, pet_info in pets.items():\n",
    "    \n",
    "    print(\"\\nPet Name:\", p_name)\n",
    "    \n",
    "    for k in pet_info:\n",
    "        if k == 'owner':\n",
    "            # Capitalize the owner's name.\n",
    "            # Note: string.lower() vs. string.title() vs. string.upper()\n",
    "            print(k, \": \", pet_info[k].upper()) \n",
    "        elif k == 'vaccinated':\n",
    "            # Print 'yes' for True, and 'no' for False.\n",
    "            vaccinated = pet_info['vaccinated']\n",
    "            if vaccinated == True:\n",
    "                print('vaccinated: yes')\n",
    "            else:\n",
    "                print('vaccinated: no')\n",
    "        else: \n",
    "            print(k + \": \" + pet_info[k])"
   ]
  }
 ],
 "metadata": {
  "kernelspec": {
   "display_name": "Python 3",
   "language": "python",
   "name": "python3"
  },
  "language_info": {
   "codemirror_mode": {
    "name": "ipython",
    "version": 3
   },
   "file_extension": ".py",
   "mimetype": "text/x-python",
   "name": "python",
   "nbconvert_exporter": "python",
   "pygments_lexer": "ipython3",
   "version": "3.8.8"
  }
 },
 "nbformat": 4,
 "nbformat_minor": 5
}
